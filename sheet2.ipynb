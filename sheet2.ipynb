{
 "cells": [
  {
   "cell_type": "markdown",
   "metadata": {},
   "source": [
    "## Task1"
   ]
  },
  {
   "cell_type": "code",
   "execution_count": 3,
   "metadata": {},
   "outputs": [
    {
     "name": "stdout",
     "output_type": "stream",
     "text": [
      "q= 13\n",
      "r= 3\n"
     ]
    }
   ],
   "source": [
    "#include <iostream>\n",
    "using namespace std;\n",
    " \n",
    "\n",
    "  int a = 68;\n",
    "  int b = 5;\n",
    "  float  q = a / b;  //when a and b are int then result is int if both are float or one them are float result is float\n",
    "  int r = a % b;  // a and b must be int nummber and and result is int number \n",
    "  cout << \"q= \"<<q <<\"\\n\" ;\n",
    "  cout << \"r= \" << r << \"\\n\";"
   ]
  },
  {
   "cell_type": "markdown",
   "metadata": {},
   "source": [
    "## Task2"
   ]
  },
  {
   "cell_type": "code",
   "execution_count": 2,
   "metadata": {},
   "outputs": [
    {
     "name": "stdout",
     "output_type": "stream",
     "text": [
      "The size of a char is 1 byte (8 bits)\n",
      "The size of an int is 4 bytes (8 bits)\n",
      "0 \u0000\n",
      "1 \u0001\n",
      "2 \u0002\n",
      "3 \u0003\n",
      "4 \u0004\n",
      "5 \u0005\n",
      "6 \u0006\n",
      "7 \u0007\n",
      "8\n",
      "9 \t\n",
      "10 \n",
      "\n",
      "11 \u000b",
      "\n",
      "12 \f",
      "\n",
      "13 \n",
      "14 \u000e\n",
      "15 \u000f\n",
      "16 \u0010\n",
      "17 \u0011\n",
      "18 \u0012\n",
      "19 \u0013\n",
      "20 \u0014\n",
      "21 \u0015\n",
      "22 \u0016\n",
      "23 \u0017\n",
      "24 \u0018\n",
      "25 \u0019\n",
      "26 \u001a\n",
      "27 \u001b\n",
      "28 \u001c",
      "\n",
      "29 \u001d",
      "\n",
      "30 \u001e",
      "\n",
      "31 \u001f\n",
      "32  \n",
      "33 !\n",
      "34 \"\n",
      "35 #\n",
      "36 $\n",
      "37 %\n",
      "38 &\n",
      "39 '\n",
      "40 (\n",
      "41 )\n",
      "42 *\n",
      "43 +\n",
      "44 ,\n",
      "45 -\n",
      "46 .\n",
      "47 /\n",
      "48 0\n",
      "49 1\n",
      "50 2\n",
      "51 3\n",
      "52 4\n",
      "53 5\n",
      "54 6\n",
      "55 7\n",
      "56 8\n",
      "57 9\n",
      "58 :\n",
      "59 ;\n",
      "60 <\n",
      "61 =\n",
      "62 >\n",
      "63 ?\n",
      "64 @\n",
      "65 A\n",
      "66 B\n",
      "67 C\n",
      "68 D\n",
      "69 E\n",
      "70 F\n",
      "71 G\n",
      "72 H\n",
      "73 I\n",
      "74 J\n",
      "75 K\n",
      "76 L\n",
      "77 M\n",
      "78 N\n",
      "79 O\n",
      "80 P\n",
      "81 Q\n",
      "82 R\n",
      "83 S\n",
      "84 T\n",
      "85 U\n",
      "86 V\n",
      "87 W\n",
      "88 X\n",
      "89 Y\n",
      "90 Z\n",
      "91 [\n",
      "92 \\\n",
      "93 ]\n",
      "94 ^\n",
      "95 _\n",
      "96 `\n",
      "97 a\n",
      "98 b\n",
      "99 c\n",
      "100 d\n",
      "101 e\n",
      "102 f\n",
      "103 g\n",
      "104 h\n",
      "105 i\n",
      "106 j\n",
      "107 k\n",
      "108 l\n",
      "109 m\n",
      "110 n\n",
      "111 o\n",
      "112 p\n",
      "113 q\n",
      "114 r\n",
      "115 s\n",
      "116 t\n",
      "117 u\n",
      "118 v\n",
      "119 w\n",
      "120 x\n",
      "121 y\n",
      "122 z\n",
      "123 {\n",
      "124 |\n",
      "125 }\n",
      "126 ~\n",
      "127 \n"
     ]
    }
   ],
   "source": [
    "#include <iostream>\n",
    "using namespace std;\n",
    "\n",
    "cout<<\"The size of a char is \" <<sizeof (char)<<\" byte (8 bits)\"<<endl;\n",
    "cout<<\"The size of an int is \" <<sizeof (int)<<\" bytes (8 bits)\"<<endl;\n",
    "// the ASCII code uses 128=2^7 values to represent characters. \n",
    "for (int i = 0; i<128; i++) \n",
    "{\n",
    "  char c = i;\n",
    "  cout << i<< \" \"<<c<<endl;\n",
    "}"
   ]
  },
  {
   "cell_type": "code",
   "execution_count": 3,
   "metadata": {},
   "outputs": [
    {
     "name": "stdout",
     "output_type": "stream",
     "text": [
      "00000000000000000000000101010011\n",
      "01010011\n",
      "                        01010011\n"
     ]
    }
   ],
   "source": [
    "#include <bitset> // for the bitset casts \n",
    "\n",
    "int a = 339; // (339)_10 = (0000000101010011)_2\n",
    "char h = a; // truncated to (01010011)_2 = (83)_10\n",
    "\n",
    "cout << bitset<32>(a) <<endl;\n",
    "cout << std::setfill(' ') << std::setw(32) << bitset<8>(h) << endl;"
   ]
  },
  {
   "cell_type": "code",
   "execution_count": null,
   "metadata": {},
   "outputs": [],
   "source": [
    "cout << h << endl; // operator overloading 83 is interpreted according to the ASCII table"
   ]
  },
  {
   "cell_type": "code",
   "execution_count": 4,
   "metadata": {},
   "outputs": [
    {
     "name": "stdout",
     "output_type": "stream",
     "text": [
      "00000000000000000000000101010011\n"
     ]
    }
   ],
   "source": [
    "char f = (char)a; // same as above f=h (no need to make the cast explicit: this would also work: char d = (char)h;)\n",
    "int d = (int)h; // getting back the value of h (no need to make the cast explicit: this would also work: int d = h;)\n",
    "cout << bitset<32>(a) <<endl;"
   ]
  },
  {
   "cell_type": "code",
   "execution_count": 5,
   "metadata": {},
   "outputs": [
    {
     "name": "stdout",
     "output_type": "stream",
     "text": [
      "00000000000000000000000101010011\n",
      "00000000000000000000000011111111\n",
      "--------------------------------\n",
      "00000000000000000000000001010011\n",
      "339 S S 83 83\n"
     ]
    }
   ],
   "source": [
    "int e = a & 0xff; // bitwise operation: add 1 bitwise, that is copies the bits of a \n",
    "                // where there is 1 in the second operator and copies zero in the other bits, \n",
    "                // it simulates the truncation, hence e == d\n",
    "\n",
    "cout << bitset<32>(a) <<endl;\n",
    "cout << bitset<32>(0xff) <<endl;\n",
    "cout << std::setfill('-') << std::setw(32) << \"\" <<endl;\n",
    "cout << bitset<32>(e) << endl;\n",
    "\n",
    "cout << a << \" \" << h << \" \" << f << \" \" << d << \" \" << e << endl;"
   ]
  },
  {
   "cell_type": "code",
   "execution_count": 5,
   "metadata": {},
   "outputs": [
    {
     "name": "stdout",
     "output_type": "stream",
     "text": [
      "115 s s 115 115\n"
     ]
    }
   ],
   "source": [
    "a = 115; // 115 is a number smaller than 256=2^8 hence no truncation occurs here in the casting\n",
    "h = a;\n",
    "f = (char)a;\n",
    "d = (int)h;\n",
    "e = a & 0xff;\n",
    "cout << a << \" \" << h << \" \" << f << \" \" << d << \" \" << e << endl;\n"
   ]
  },
  {
   "cell_type": "code",
   "execution_count": 6,
   "metadata": {},
   "outputs": [
    {
     "name": "stdout",
     "output_type": "stream",
     "text": [
      "Enter a number \n",
      "20000\n",
      " oops !: 20000!=32\n"
     ]
    }
   ],
   "source": [
    "int input;\n",
    "cout << \"Enter a number \\n\";\n",
    "cin >> input;\n",
    "//Test it with Input 20000\n",
    "char c = input;\n",
    "int b = c;\n",
    "if (input != b)\n",
    "  cout << \" oops !: \" << input << \"!=\" << b << \"\\n\";\n",
    "else\n",
    "  cout << \" Wow! We have large characters \\n\";\n"
   ]
  },
  {
   "cell_type": "markdown",
   "metadata": {},
   "source": [
    "## Task 5"
   ]
  },
  {
   "cell_type": "code",
   "execution_count": 1,
   "metadata": {},
   "outputs": [
    {
     "name": "stdout",
     "output_type": "stream",
     "text": [
      "1"
     ]
    }
   ],
   "source": [
    "#include <iostream>\n",
    "using namespace std;\n",
    "int j =2;\n",
    "cout << (3>=(j-3));"
   ]
  },
  {
   "cell_type": "code",
   "execution_count": 2,
   "metadata": {},
   "outputs": [
    {
     "name": "stderr",
     "output_type": "stream",
     "text": [
      "input_line_9:2:11: warning: overloaded operator << has higher precedence than comparison operator [-Woverloaded-shift-op-parentheses]\n",
      " cout << 3>=(j-3);\n",
      " ~~~~~~~~~^ ~~~~~\n",
      "input_line_9:2:7: note: place parentheses around the '<<' expression to silence this warning\n",
      " cout << 3>=(j-3);\n",
      "      ^\n",
      " (        )\n",
      "input_line_9:2:11: note: place parentheses around comparison expression to evaluate it first\n",
      " cout << 3>=(j-3);\n",
      "          ^\n",
      "         (       )\n",
      "input_line_9:2:11: error: invalid operands to binary expression ('std::basic_ostream<char, std::char_traits<char> >::__ostream_type' (aka 'basic_ostream<char, std::char_traits<char> >') and 'int')\n",
      " cout << 3>=(j-3);\n",
      " ~~~~~~~~~^ ~~~~~\n",
      "/srv/conda/envs/notebook/bin/../lib/gcc/x86_64-conda_cos6-linux-gnu/7.3.0/../../../../x86_64-conda_cos6-linux-gnu/include/c++/7.3.0/bits/stl_pair.h:474:5: note: candidate template ignored: could not match 'pair' against 'basic_ostream'\n",
      "    operator>=(const pair<_T1, _T2>& __x, const pair<_T1, _T2>& __y)\n",
      "    ^\n",
      "/srv/conda/envs/notebook/bin/../lib/gcc/x86_64-conda_cos6-linux-gnu/7.3.0/../../../../x86_64-conda_cos6-linux-gnu/include/c++/7.3.0/bits/stl_iterator.h:329:5: note: candidate template ignored: could not match 'reverse_iterator' against 'basic_ostream'\n",
      "    operator>=(const reverse_iterator<_Iterator>& __x,\n",
      "    ^\n",
      "/srv/conda/envs/notebook/bin/../lib/gcc/x86_64-conda_cos6-linux-gnu/7.3.0/../../../../x86_64-conda_cos6-linux-gnu/include/c++/7.3.0/bits/stl_iterator.h:367:5: note: candidate template ignored: could not match 'reverse_iterator' against 'basic_ostream'\n",
      "    operator>=(const reverse_iterator<_IteratorL>& __x,\n",
      "    ^\n",
      "/srv/conda/envs/notebook/bin/../lib/gcc/x86_64-conda_cos6-linux-gnu/7.3.0/../../../../x86_64-conda_cos6-linux-gnu/include/c++/7.3.0/bits/stl_iterator.h:1178:5: note: candidate template ignored: could not match 'move_iterator' against 'basic_ostream'\n",
      "    operator>=(const move_iterator<_IteratorL>& __x,\n",
      "    ^\n",
      "/srv/conda/envs/notebook/bin/../lib/gcc/x86_64-conda_cos6-linux-gnu/7.3.0/../../../../x86_64-conda_cos6-linux-gnu/include/c++/7.3.0/bits/stl_iterator.h:1184:5: note: candidate template ignored: could not match 'move_iterator' against 'basic_ostream'\n",
      "    operator>=(const move_iterator<_Iterator>& __x,\n",
      "    ^\n",
      "/srv/conda/envs/notebook/bin/../lib/gcc/x86_64-conda_cos6-linux-gnu/7.3.0/../../../../x86_64-conda_cos6-linux-gnu/include/c++/7.3.0/bits/basic_string.h:6196:5: note: candidate template ignored: could not match 'basic_string' against 'basic_ostream'\n",
      "    operator>=(const basic_string<_CharT, _Traits, _Alloc>& __lhs,\n",
      "    ^\n",
      "/srv/conda/envs/notebook/bin/../lib/gcc/x86_64-conda_cos6-linux-gnu/7.3.0/../../../../x86_64-conda_cos6-linux-gnu/include/c++/7.3.0/bits/basic_string.h:6209:5: note: candidate template ignored: could not match 'basic_string' against 'basic_ostream'\n",
      "    operator>=(const basic_string<_CharT, _Traits, _Alloc>& __lhs,\n",
      "    ^\n",
      "/srv/conda/envs/notebook/bin/../lib/gcc/x86_64-conda_cos6-linux-gnu/7.3.0/../../../../x86_64-conda_cos6-linux-gnu/include/c++/7.3.0/bits/basic_string.h:6221:5: note: candidate template ignored: could not match 'const _CharT *' against 'std::basic_ostream<char, std::char_traits<char> >::__ostream_type' (aka 'basic_ostream<char, std::char_traits<char> >')\n",
      "    operator>=(const _CharT* __lhs,\n",
      "    ^\n",
      "/srv/conda/envs/notebook/bin/../lib/gcc/x86_64-conda_cos6-linux-gnu/7.3.0/../../../../x86_64-conda_cos6-linux-gnu/include/c++/7.3.0/array:280:5: note: candidate template ignored: could not match 'array' against 'basic_ostream'\n",
      "    operator>=(const array<_Tp, _Nm>& __one, const array<_Tp, _Nm>& __two)\n",
      "    ^\n",
      "/srv/conda/envs/notebook/bin/../lib/gcc/x86_64-conda_cos6-linux-gnu/7.3.0/../../../../x86_64-conda_cos6-linux-gnu/include/c++/7.3.0/tuple:1441:5: note: candidate template ignored: could not match 'tuple' against 'basic_ostream'\n",
      "    operator>=(const tuple<_TElements...>& __t,\n",
      "    ^\n",
      "/srv/conda/envs/notebook/bin/../lib/gcc/x86_64-conda_cos6-linux-gnu/7.3.0/../../../../x86_64-conda_cos6-linux-gnu/include/c++/7.3.0/bits/stl_vector.h:1638:5: note: candidate template ignored: could not match 'vector' against 'basic_ostream'\n",
      "    operator>=(const vector<_Tp, _Alloc>& __x, const vector<_Tp, _Alloc>& __y)\n",
      "    ^\n",
      "/srv/conda/envs/notebook/bin/../lib/gcc/x86_64-conda_cos6-linux-gnu/7.3.0/../../../../x86_64-conda_cos6-linux-gnu/include/c++/7.3.0/bits/stl_list.h:1943:5: note: candidate template ignored: could not match 'list' against 'basic_ostream'\n",
      "    operator>=(const list<_Tp, _Alloc>& __x, const list<_Tp, _Alloc>& __y)\n",
      "    ^\n",
      "/srv/conda/envs/notebook/bin/../lib/gcc/x86_64-conda_cos6-linux-gnu/7.3.0/../../../../x86_64-conda_cos6-linux-gnu/include/c++/7.3.0/bits/stl_tree.h:1574:5: note: candidate template ignored: could not match '_Rb_tree' against 'basic_ostream'\n",
      "    operator>=(const _Rb_tree<_Key, _Val, _KeyOfValue, _Compare, _Alloc>& __x,\n",
      "    ^\n",
      "/srv/conda/envs/notebook/bin/../lib/gcc/x86_64-conda_cos6-linux-gnu/7.3.0/../../../../x86_64-conda_cos6-linux-gnu/include/c++/7.3.0/bits/stl_map.h:1440:5: note: candidate template ignored: could not match 'map' against 'basic_ostream'\n",
      "    operator>=(const map<_Key, _Tp, _Compare, _Alloc>& __x,\n",
      "    ^\n",
      "/srv/conda/envs/notebook/bin/../lib/gcc/x86_64-conda_cos6-linux-gnu/7.3.0/../../../../x86_64-conda_cos6-linux-gnu/include/c++/7.3.0/bits/stl_multimap.h:1106:5: note: candidate template ignored: could not match 'multimap' against 'basic_ostream'\n",
      "    operator>=(const multimap<_Key, _Tp, _Compare, _Alloc>& __x,\n",
      "    ^\n",
      "/srv/conda/envs/notebook/bin/../lib/gcc/x86_64-conda_cos6-linux-gnu/7.3.0/../../../../x86_64-conda_cos6-linux-gnu/include/c++/7.3.0/bits/unique_ptr.h:777:5: note: candidate template ignored: could not match 'unique_ptr' against 'basic_ostream'\n",
      "    operator>=(const unique_ptr<_Tp, _Dp>& __x,\n",
      "    ^\n",
      "/srv/conda/envs/notebook/bin/../lib/gcc/x86_64-conda_cos6-linux-gnu/7.3.0/../../../../x86_64-conda_cos6-linux-gnu/include/c++/7.3.0/bits/unique_ptr.h:783:5: note: candidate template ignored: could not match 'unique_ptr' against 'basic_ostream'\n",
      "    operator>=(const unique_ptr<_Tp, _Dp>& __x, nullptr_t)\n",
      "    ^\n",
      "/srv/conda/envs/notebook/bin/../lib/gcc/x86_64-conda_cos6-linux-gnu/7.3.0/../../../../x86_64-conda_cos6-linux-gnu/include/c++/7.3.0/bits/unique_ptr.h:788:5: note: candidate template ignored: could not match 'unique_ptr<type-parameter-0-0, type-parameter-0-1>' against 'int'\n",
      "    operator>=(nullptr_t, const unique_ptr<_Tp, _Dp>& __x)\n",
      "    ^\n",
      "/srv/conda/envs/notebook/bin/../lib/gcc/x86_64-conda_cos6-linux-gnu/7.3.0/../../../../x86_64-conda_cos6-linux-gnu/include/c++/7.3.0/bits/shared_ptr_base.h:1500:5: note: candidate template ignored: could not match '__shared_ptr' against 'basic_ostream'\n",
      "    operator>=(const __shared_ptr<_Tp1, _Lp>& __a,\n",
      "    ^\n",
      "/srv/conda/envs/notebook/bin/../lib/gcc/x86_64-conda_cos6-linux-gnu/7.3.0/../../../../x86_64-conda_cos6-linux-gnu/include/c++/7.3.0/bits/shared_ptr_base.h:1506:5: note: candidate template ignored: could not match '__shared_ptr' against 'basic_ostream'\n",
      "    operator>=(const __shared_ptr<_Tp, _Lp>& __a, nullptr_t) noexcept\n",
      "    ^\n",
      "/srv/conda/envs/notebook/bin/../lib/gcc/x86_64-conda_cos6-linux-gnu/7.3.0/../../../../x86_64-conda_cos6-linux-gnu/include/c++/7.3.0/bits/shared_ptr_base.h:1511:5: note: candidate template ignored: could not match '__shared_ptr<type-parameter-0-0, _Lp>' against 'int'\n",
      "    operator>=(nullptr_t, const __shared_ptr<_Tp, _Lp>& __a) noexcept\n",
      "    ^\n",
      "/srv/conda/envs/notebook/bin/../lib/gcc/x86_64-conda_cos6-linux-gnu/7.3.0/../../../../x86_64-conda_cos6-linux-gnu/include/c++/7.3.0/bits/shared_ptr.h:454:5: note: candidate template ignored: could not match 'shared_ptr' against 'basic_ostream'\n",
      "    operator>=(const shared_ptr<_Tp>& __a, const shared_ptr<_Up>& __b) noexcept\n",
      "    ^\n",
      "/srv/conda/envs/notebook/bin/../lib/gcc/x86_64-conda_cos6-linux-gnu/7.3.0/../../../../x86_64-conda_cos6-linux-gnu/include/c++/7.3.0/bits/shared_ptr.h:459:5: note: candidate template ignored: could not match 'shared_ptr' against 'basic_ostream'\n",
      "    operator>=(const shared_ptr<_Tp>& __a, nullptr_t) noexcept\n",
      "    ^\n",
      "/srv/conda/envs/notebook/bin/../lib/gcc/x86_64-conda_cos6-linux-gnu/7.3.0/../../../../x86_64-conda_cos6-linux-gnu/include/c++/7.3.0/bits/shared_ptr.h:464:5: note: candidate template ignored: could not match 'shared_ptr<type-parameter-0-0>' against 'int'\n",
      "    operator>=(nullptr_t, const shared_ptr<_Tp>& __a) noexcept\n",
      "    ^\n",
      "/srv/conda/envs/notebook/bin/../lib/gcc/x86_64-conda_cos6-linux-gnu/7.3.0/../../../../x86_64-conda_cos6-linux-gnu/include/c++/7.3.0/bits/forward_list.h:1413:5: note: candidate template ignored: could not match 'forward_list' against 'basic_ostream'\n",
      "    operator>=(const forward_list<_Tp, _Alloc>& __lx,\n",
      "    ^\n",
      "/srv/conda/envs/notebook/bin/../lib/gcc/x86_64-conda_cos6-linux-gnu/7.3.0/../../../../x86_64-conda_cos6-linux-gnu/include/c++/7.3.0/bits/valarray_after.h:419:5: note: candidate template ignored: could not match '_Expr' against 'basic_ostream'\n",
      "    _DEFINE_EXPR_BINARY_OPERATOR(>=, __greater_equal)\n",
      "    ^\n",
      "/srv/conda/envs/notebook/bin/../lib/gcc/x86_64-conda_cos6-linux-gnu/7.3.0/../../../../x86_64-conda_cos6-linux-gnu/include/c++/7.3.0/bits/valarray_after.h:341:5: note: expanded from macro '_DEFINE_EXPR_BINARY_OPERATOR'\n",
      "    operator _Op(const _Expr<_Dom1, typename _Dom1::value_type>& __v,   \\\n",
      "    ^\n",
      "/srv/conda/envs/notebook/bin/../lib/gcc/x86_64-conda_cos6-linux-gnu/7.3.0/../../../../x86_64-conda_cos6-linux-gnu/include/c++/7.3.0/bits/valarray_after.h:419:5: note: candidate template ignored: could not match '_Expr' against 'basic_ostream'\n",
      "/srv/conda/envs/notebook/bin/../lib/gcc/x86_64-conda_cos6-linux-gnu/7.3.0/../../../../x86_64-conda_cos6-linux-gnu/include/c++/7.3.0/bits/valarray_after.h:354:5: note: expanded from macro '_DEFINE_EXPR_BINARY_OPERATOR'\n",
      "    operator _Op(const _Expr<_Dom, typename _Dom::value_type>& __v,     \\\n",
      "    ^\n",
      "/srv/conda/envs/notebook/bin/../lib/gcc/x86_64-conda_cos6-linux-gnu/7.3.0/../../../../x86_64-conda_cos6-linux-gnu/include/c++/7.3.0/bits/valarray_after.h:419:5: note: candidate template ignored: could not match '_Expr<type-parameter-0-0, typename type-parameter-0-0::value_type>' against 'int'\n",
      "/srv/conda/envs/notebook/bin/../lib/gcc/x86_64-conda_cos6-linux-gnu/7.3.0/../../../../x86_64-conda_cos6-linux-gnu/include/c++/7.3.0/bits/valarray_after.h:367:5: note: expanded from macro '_DEFINE_EXPR_BINARY_OPERATOR'\n",
      "    operator _Op(const typename _Dom::value_type& __t,                  \\\n",
      "    ^\n",
      "/srv/conda/envs/notebook/bin/../lib/gcc/x86_64-conda_cos6-linux-gnu/7.3.0/../../../../x86_64-conda_cos6-linux-gnu/include/c++/7.3.0/bits/valarray_after.h:419:5: note: candidate template ignored: could not match '_Expr' against 'basic_ostream'\n",
      "/srv/conda/envs/notebook/bin/../lib/gcc/x86_64-conda_cos6-linux-gnu/7.3.0/../../../../x86_64-conda_cos6-linux-gnu/include/c++/7.3.0/bits/valarray_after.h:380:5: note: expanded from macro '_DEFINE_EXPR_BINARY_OPERATOR'\n",
      "    operator _Op(const _Expr<_Dom,typename _Dom::value_type>& __e,      \\\n",
      "    ^\n",
      "/srv/conda/envs/notebook/bin/../lib/gcc/x86_64-conda_cos6-linux-gnu/7.3.0/../../../../x86_64-conda_cos6-linux-gnu/include/c++/7.3.0/bits/valarray_after.h:419:5: note: candidate template ignored: could not match '_Expr<type-parameter-0-0, typename type-parameter-0-0::value_type>' against 'int'\n",
      "/srv/conda/envs/notebook/bin/../lib/gcc/x86_64-conda_cos6-linux-gnu/7.3.0/../../../../x86_64-conda_cos6-linux-gnu/include/c++/7.3.0/bits/valarray_after.h:393:5: note: expanded from macro '_DEFINE_EXPR_BINARY_OPERATOR'\n",
      "    operator _Op(const valarray<typename _Dom::value_type>& __v,        \\\n",
      "    ^\n",
      "/srv/conda/envs/notebook/bin/../lib/gcc/x86_64-conda_cos6-linux-gnu/7.3.0/../../../../x86_64-conda_cos6-linux-gnu/include/c++/7.3.0/valarray:1189:1: note: candidate template ignored: could not match 'valarray' against 'basic_ostream'\n",
      "_DEFINE_BINARY_OPERATOR(>=, __greater_equal)\n",
      "^\n",
      "/srv/conda/envs/notebook/bin/../lib/gcc/x86_64-conda_cos6-linux-gnu/7.3.0/../../../../x86_64-conda_cos6-linux-gnu/include/c++/7.3.0/valarray:1144:5: note: expanded from macro '_DEFINE_BINARY_OPERATOR'\n",
      "    operator _Op(const valarray<_Tp>& __v, const valarray<_Tp>& __w)    \\\n",
      "    ^\n",
      "/srv/conda/envs/notebook/bin/../lib/gcc/x86_64-conda_cos6-linux-gnu/7.3.0/../../../../x86_64-conda_cos6-linux-gnu/include/c++/7.3.0/valarray:1189:1: note: candidate template ignored: could not match 'valarray' against 'basic_ostream'\n",
      "/srv/conda/envs/notebook/bin/../lib/gcc/x86_64-conda_cos6-linux-gnu/7.3.0/../../../../x86_64-conda_cos6-linux-gnu/include/c++/7.3.0/valarray:1155:5: note: expanded from macro '_DEFINE_BINARY_OPERATOR'\n",
      "    operator _Op(const valarray<_Tp>& __v, const _Tp& __t)              \\\n",
      "    ^\n",
      "/srv/conda/envs/notebook/bin/../lib/gcc/x86_64-conda_cos6-linux-gnu/7.3.0/../../../../x86_64-conda_cos6-linux-gnu/include/c++/7.3.0/valarray:1189:1: note: candidate template ignored: could not match 'valarray<type-parameter-0-0>' against 'int'\n",
      "/srv/conda/envs/notebook/bin/../lib/gcc/x86_64-conda_cos6-linux-gnu/7.3.0/../../../../x86_64-conda_cos6-linux-gnu/include/c++/7.3.0/valarray:1165:5: note: expanded from macro '_DEFINE_BINARY_OPERATOR'\n",
      "    operator _Op(const _Tp& __t, const valarray<_Tp>& __v)              \\\n",
      "    ^\n",
      "/srv/conda/envs/notebook/bin/../lib/gcc/x86_64-conda_cos6-linux-gnu/7.3.0/../../../../x86_64-conda_cos6-linux-gnu/include/c++/7.3.0/bits/stl_deque.h:334:5: note: candidate template ignored: could not match '_Deque_iterator' against 'basic_ostream'\n",
      "    operator>=(const _Deque_iterator<_Tp, _Ref, _Ptr>& __x,\n",
      "    ^\n",
      "/srv/conda/envs/notebook/bin/../lib/gcc/x86_64-conda_cos6-linux-gnu/7.3.0/../../../../x86_64-conda_cos6-linux-gnu/include/c++/7.3.0/bits/stl_deque.h:341:5: note: candidate template ignored: could not match '_Deque_iterator' against 'basic_ostream'\n",
      "    operator>=(const _Deque_iterator<_Tp, _RefL, _PtrL>& __x,\n",
      "    ^\n",
      "/srv/conda/envs/notebook/bin/../lib/gcc/x86_64-conda_cos6-linux-gnu/7.3.0/../../../../x86_64-conda_cos6-linux-gnu/include/c++/7.3.0/bits/stl_deque.h:2305:5: note: candidate template ignored: could not match 'deque' against 'basic_ostream'\n",
      "    operator>=(const deque<_Tp, _Alloc>& __x,\n",
      "    ^\n"
     ]
    },
    {
     "ename": "Interpreter Error",
     "evalue": "",
     "output_type": "error",
     "traceback": [
      "Interpreter Error: "
     ]
    }
   ],
   "source": [
    "cout << 3>=(j-3); // not fine: read warning message below:"
   ]
  },
  {
   "cell_type": "code",
   "execution_count": 4,
   "metadata": {},
   "outputs": [
    {
     "name": "stdout",
     "output_type": "stream",
     "text": [
      "1"
     ]
    },
    {
     "data": {
      "text/plain": [
       "@0x7f37270e6b60"
      ]
     },
     "execution_count": 4,
     "metadata": {},
     "output_type": "execute_result"
    }
   ],
   "source": [
    "cout << (3>=j-3); // fine: additive operators have higher precedence than relational operators"
   ]
  },
  {
   "cell_type": "code",
   "execution_count": 5,
   "metadata": {},
   "outputs": [
    {
     "name": "stdout",
     "output_type": "stream",
     "text": [
      "1"
     ]
    }
   ],
   "source": [
    "cout << ((323-(j*-7))!=(43));"
   ]
  },
  {
   "cell_type": "code",
   "execution_count": 6,
   "metadata": {},
   "outputs": [
    {
     "name": "stdout",
     "output_type": "stream",
     "text": [
      "1"
     ]
    },
    {
     "data": {
      "text/plain": [
       "@0x7f37270e6b60"
      ]
     },
     "execution_count": 6,
     "metadata": {},
     "output_type": "execute_result"
    }
   ],
   "source": [
    "cout << ((323-(j*-7))!=43); // fine"
   ]
  },
  {
   "cell_type": "code",
   "execution_count": 7,
   "metadata": {},
   "outputs": [
    {
     "name": "stdout",
     "output_type": "stream",
     "text": [
      "1"
     ]
    },
    {
     "data": {
      "text/plain": [
       "@0x7f37270e6b60"
      ]
     },
     "execution_count": 7,
     "metadata": {},
     "output_type": "execute_result"
    }
   ],
   "source": [
    "cout << ((323-j*-7)!=43); // fine: multiplicative operatos have higher precedence than additive operators"
   ]
  },
  {
   "cell_type": "code",
   "execution_count": 9,
   "metadata": {},
   "outputs": [
    {
     "name": "stdout",
     "output_type": "stream",
     "text": [
      "1"
     ]
    },
    {
     "data": {
      "text/plain": [
       "@0x7f37270e6b60"
      ]
     },
     "execution_count": 9,
     "metadata": {},
     "output_type": "execute_result"
    }
   ],
   "source": [
    "cout << (323-j*-7!=43); // fine: additive and multiplicative operators have higher precedence than relational operators"
   ]
  },
  {
   "cell_type": "markdown",
   "metadata": {},
   "source": [
    "## Task6"
   ]
  },
  {
   "cell_type": "code",
   "execution_count": 11,
   "metadata": {},
   "outputs": [
    {
     "name": "stdout",
     "output_type": "stream",
     "text": [
      "d\n",
      "2.81\n"
     ]
    }
   ],
   "source": [
    "#include <iostream>\n",
    "using namespace std;\n",
    "\n",
    "   int a = 3;\n",
    "   double d = 2.19;\n",
    "   auto f = 4 - d + a / 2;\n",
    "   cout << typeid(f).name() << '\\n';\n",
    "   cout << f<< '\\n';\n"
   ]
  },
  {
   "cell_type": "markdown",
   "metadata": {},
   "source": [
    "## Task7"
   ]
  },
  {
   "cell_type": "code",
   "execution_count": 24,
   "metadata": {},
   "outputs": [
    {
     "name": "stdout",
     "output_type": "stream",
     "text": [
      "0\n",
      "1\n",
      "0\n",
      "1\n"
     ]
    }
   ],
   "source": [
    " a=0;\n",
    " b=2;\n",
    " c=3;\n",
    "cout<< (a>b && a<c) <<'\\n';\n",
    "cout<< (a<b<c)<<'\\n';\n",
    "cout<< (a>b>c)<<'\\n';\n",
    "cout<< (a>b<c)<<'\\n' ;   "
   ]
  },
  {
   "cell_type": "markdown",
   "metadata": {},
   "source": [
    "## Task10"
   ]
  },
  {
   "cell_type": "code",
   "execution_count": 6,
   "metadata": {},
   "outputs": [
    {
     "name": "stdout",
     "output_type": "stream",
     "text": [
      "Enter a number \n",
      "10\n",
      "23\n",
      "44\n",
      "o\n",
      "myvector stored 3 numbers.\n",
      "Largest number is 44\n",
      "Vector after sorting \n",
      "10 23 44 \n",
      "Vector after removing repeated values \n",
      "10 23 44 \n"
     ]
    },
    {
     "data": {
      "text/plain": [
       "@0x7f7d00215b60"
      ]
     },
     "execution_count": 6,
     "metadata": {},
     "output_type": "execute_result"
    }
   ],
   "source": [
    "#include <vector>\n",
    "\n",
    "vector<int> v;\n",
    "int  input;\n",
    "\n",
    "cout << \"Enter a number \\n\";\n",
    "while ( cin >> input ) {\n",
    "  v.push_back(input);\n",
    "}\n",
    "\n",
    "cout << \"myvector stored \" << int(v.size()) << \" numbers.\\n\";\n",
    "\n",
    "// Largest number:\n",
    "sort(v.begin(), v.end());\n",
    "cout << \"Largest number is \"<<v[v.size()-1]<<endl;\n",
    "\n",
    "// Removing Duplicated Values\n",
    "cout << \"Vector after sorting \\n\";\n",
    "for (auto a : v) {\n",
    "    std::cout << a << \" \";\n",
    "}\n",
    "cout << \"\\n\";\n",
    "\n",
    "// Removing repetaed values\n",
    "cout << \"Vector after removing repeated values \\n\";\n",
    "int previous = v[v.size()-1];\n",
    "for (const auto i : v) {\n",
    "    if (i == previous) {\n",
    "       // do nothing \n",
    "    } \n",
    "    else {\n",
    "        cout << i << \" \";\n",
    "    }\n",
    "    previous=i;\n",
    "}\n",
    "cout << \"\\n\";\n",
    "\n",
    "\n"
   ]
  },
  {
   "cell_type": "code",
   "execution_count": null,
   "metadata": {},
   "outputs": [],
   "source": []
  }
 ],
 "metadata": {
  "kernelspec": {
   "display_name": "C++14",
   "language": "C++14",
   "name": "xcpp14"
  },
  "language_info": {
   "codemirror_mode": "text/x-c++src",
   "file_extension": ".cpp",
   "mimetype": "text/x-c++src",
   "name": "c++",
   "version": "-std=c++14"
  }
 },
 "nbformat": 4,
 "nbformat_minor": 2
}
