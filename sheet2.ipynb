{
 "cells": [
  {
   "cell_type": "markdown",
   "metadata": {},
   "source": [
    "## Task1"
   ]
  },
  {
   "cell_type": "code",
   "execution_count": 4,
   "metadata": {},
   "outputs": [
    {
     "name": "stdout",
     "output_type": "stream",
     "text": [
      "q= 13\n",
      "r= 3\n"
     ]
    }
   ],
   "source": [
    "#include <iostream>\n",
    "using namespace std;\n",
    " \n",
    "\n",
    "  int a = 68;\n",
    "  int b = 5;\n",
    "  float  q = a / b;  //when a and b are int then result is int if both are float or one them are float result is float\n",
    "  int r = a % b;  // a and b must be int nummber and and result is int number \n",
    "  cout << \"q= \"<<q <<\"\\n\" ;\n",
    "  cout << \"r= \" << r << \"\\n\";"
   ]
  },
  {
   "cell_type": "markdown",
   "metadata": {},
   "source": [
    "## Task2"
   ]
  },
  {
   "cell_type": "markdown",
   "metadata": {},
   "source": [
    "## Task 5"
   ]
  },
  {
   "cell_type": "code",
   "execution_count": 1,
   "metadata": {},
   "outputs": [
    {
     "name": "stdout",
     "output_type": "stream",
     "text": [
      "1"
     ]
    }
   ],
   "source": [
    "#include <iostream>\n",
    "using namespace std;\n",
    "int j =2;\n",
    "cout << (3>=(j-3));"
   ]
  },
  {
   "cell_type": "code",
   "execution_count": 2,
   "metadata": {},
   "outputs": [
    {
     "name": "stderr",
     "output_type": "stream",
     "text": [
      "input_line_9:2:11: warning: overloaded operator << has higher precedence than comparison operator [-Woverloaded-shift-op-parentheses]\n",
      " cout << 3>=(j-3);\n",
      " ~~~~~~~~~^ ~~~~~\n",
      "input_line_9:2:7: note: place parentheses around the '<<' expression to silence this warning\n",
      " cout << 3>=(j-3);\n",
      "      ^\n",
      " (        )\n",
      "input_line_9:2:11: note: place parentheses around comparison expression to evaluate it first\n",
      " cout << 3>=(j-3);\n",
      "          ^\n",
      "         (       )\n",
      "input_line_9:2:11: error: invalid operands to binary expression ('std::basic_ostream<char, std::char_traits<char> >::__ostream_type' (aka 'basic_ostream<char, std::char_traits<char> >') and 'int')\n",
      " cout << 3>=(j-3);\n",
      " ~~~~~~~~~^ ~~~~~\n",
      "/srv/conda/envs/notebook/bin/../lib/gcc/x86_64-conda_cos6-linux-gnu/7.3.0/../../../../x86_64-conda_cos6-linux-gnu/include/c++/7.3.0/bits/stl_pair.h:474:5: note: candidate template ignored: could not match 'pair' against 'basic_ostream'\n",
      "    operator>=(const pair<_T1, _T2>& __x, const pair<_T1, _T2>& __y)\n",
      "    ^\n",
      "/srv/conda/envs/notebook/bin/../lib/gcc/x86_64-conda_cos6-linux-gnu/7.3.0/../../../../x86_64-conda_cos6-linux-gnu/include/c++/7.3.0/bits/stl_iterator.h:329:5: note: candidate template ignored: could not match 'reverse_iterator' against 'basic_ostream'\n",
      "    operator>=(const reverse_iterator<_Iterator>& __x,\n",
      "    ^\n",
      "/srv/conda/envs/notebook/bin/../lib/gcc/x86_64-conda_cos6-linux-gnu/7.3.0/../../../../x86_64-conda_cos6-linux-gnu/include/c++/7.3.0/bits/stl_iterator.h:367:5: note: candidate template ignored: could not match 'reverse_iterator' against 'basic_ostream'\n",
      "    operator>=(const reverse_iterator<_IteratorL>& __x,\n",
      "    ^\n",
      "/srv/conda/envs/notebook/bin/../lib/gcc/x86_64-conda_cos6-linux-gnu/7.3.0/../../../../x86_64-conda_cos6-linux-gnu/include/c++/7.3.0/bits/stl_iterator.h:1178:5: note: candidate template ignored: could not match 'move_iterator' against 'basic_ostream'\n",
      "    operator>=(const move_iterator<_IteratorL>& __x,\n",
      "    ^\n",
      "/srv/conda/envs/notebook/bin/../lib/gcc/x86_64-conda_cos6-linux-gnu/7.3.0/../../../../x86_64-conda_cos6-linux-gnu/include/c++/7.3.0/bits/stl_iterator.h:1184:5: note: candidate template ignored: could not match 'move_iterator' against 'basic_ostream'\n",
      "    operator>=(const move_iterator<_Iterator>& __x,\n",
      "    ^\n",
      "/srv/conda/envs/notebook/bin/../lib/gcc/x86_64-conda_cos6-linux-gnu/7.3.0/../../../../x86_64-conda_cos6-linux-gnu/include/c++/7.3.0/bits/basic_string.h:6196:5: note: candidate template ignored: could not match 'basic_string' against 'basic_ostream'\n",
      "    operator>=(const basic_string<_CharT, _Traits, _Alloc>& __lhs,\n",
      "    ^\n",
      "/srv/conda/envs/notebook/bin/../lib/gcc/x86_64-conda_cos6-linux-gnu/7.3.0/../../../../x86_64-conda_cos6-linux-gnu/include/c++/7.3.0/bits/basic_string.h:6209:5: note: candidate template ignored: could not match 'basic_string' against 'basic_ostream'\n",
      "    operator>=(const basic_string<_CharT, _Traits, _Alloc>& __lhs,\n",
      "    ^\n",
      "/srv/conda/envs/notebook/bin/../lib/gcc/x86_64-conda_cos6-linux-gnu/7.3.0/../../../../x86_64-conda_cos6-linux-gnu/include/c++/7.3.0/bits/basic_string.h:6221:5: note: candidate template ignored: could not match 'const _CharT *' against 'std::basic_ostream<char, std::char_traits<char> >::__ostream_type' (aka 'basic_ostream<char, std::char_traits<char> >')\n",
      "    operator>=(const _CharT* __lhs,\n",
      "    ^\n",
      "/srv/conda/envs/notebook/bin/../lib/gcc/x86_64-conda_cos6-linux-gnu/7.3.0/../../../../x86_64-conda_cos6-linux-gnu/include/c++/7.3.0/array:280:5: note: candidate template ignored: could not match 'array' against 'basic_ostream'\n",
      "    operator>=(const array<_Tp, _Nm>& __one, const array<_Tp, _Nm>& __two)\n",
      "    ^\n",
      "/srv/conda/envs/notebook/bin/../lib/gcc/x86_64-conda_cos6-linux-gnu/7.3.0/../../../../x86_64-conda_cos6-linux-gnu/include/c++/7.3.0/tuple:1441:5: note: candidate template ignored: could not match 'tuple' against 'basic_ostream'\n",
      "    operator>=(const tuple<_TElements...>& __t,\n",
      "    ^\n",
      "/srv/conda/envs/notebook/bin/../lib/gcc/x86_64-conda_cos6-linux-gnu/7.3.0/../../../../x86_64-conda_cos6-linux-gnu/include/c++/7.3.0/bits/stl_vector.h:1638:5: note: candidate template ignored: could not match 'vector' against 'basic_ostream'\n",
      "    operator>=(const vector<_Tp, _Alloc>& __x, const vector<_Tp, _Alloc>& __y)\n",
      "    ^\n",
      "/srv/conda/envs/notebook/bin/../lib/gcc/x86_64-conda_cos6-linux-gnu/7.3.0/../../../../x86_64-conda_cos6-linux-gnu/include/c++/7.3.0/bits/stl_list.h:1943:5: note: candidate template ignored: could not match 'list' against 'basic_ostream'\n",
      "    operator>=(const list<_Tp, _Alloc>& __x, const list<_Tp, _Alloc>& __y)\n",
      "    ^\n",
      "/srv/conda/envs/notebook/bin/../lib/gcc/x86_64-conda_cos6-linux-gnu/7.3.0/../../../../x86_64-conda_cos6-linux-gnu/include/c++/7.3.0/bits/stl_tree.h:1574:5: note: candidate template ignored: could not match '_Rb_tree' against 'basic_ostream'\n",
      "    operator>=(const _Rb_tree<_Key, _Val, _KeyOfValue, _Compare, _Alloc>& __x,\n",
      "    ^\n",
      "/srv/conda/envs/notebook/bin/../lib/gcc/x86_64-conda_cos6-linux-gnu/7.3.0/../../../../x86_64-conda_cos6-linux-gnu/include/c++/7.3.0/bits/stl_map.h:1440:5: note: candidate template ignored: could not match 'map' against 'basic_ostream'\n",
      "    operator>=(const map<_Key, _Tp, _Compare, _Alloc>& __x,\n",
      "    ^\n",
      "/srv/conda/envs/notebook/bin/../lib/gcc/x86_64-conda_cos6-linux-gnu/7.3.0/../../../../x86_64-conda_cos6-linux-gnu/include/c++/7.3.0/bits/stl_multimap.h:1106:5: note: candidate template ignored: could not match 'multimap' against 'basic_ostream'\n",
      "    operator>=(const multimap<_Key, _Tp, _Compare, _Alloc>& __x,\n",
      "    ^\n",
      "/srv/conda/envs/notebook/bin/../lib/gcc/x86_64-conda_cos6-linux-gnu/7.3.0/../../../../x86_64-conda_cos6-linux-gnu/include/c++/7.3.0/bits/unique_ptr.h:777:5: note: candidate template ignored: could not match 'unique_ptr' against 'basic_ostream'\n",
      "    operator>=(const unique_ptr<_Tp, _Dp>& __x,\n",
      "    ^\n",
      "/srv/conda/envs/notebook/bin/../lib/gcc/x86_64-conda_cos6-linux-gnu/7.3.0/../../../../x86_64-conda_cos6-linux-gnu/include/c++/7.3.0/bits/unique_ptr.h:783:5: note: candidate template ignored: could not match 'unique_ptr' against 'basic_ostream'\n",
      "    operator>=(const unique_ptr<_Tp, _Dp>& __x, nullptr_t)\n",
      "    ^\n",
      "/srv/conda/envs/notebook/bin/../lib/gcc/x86_64-conda_cos6-linux-gnu/7.3.0/../../../../x86_64-conda_cos6-linux-gnu/include/c++/7.3.0/bits/unique_ptr.h:788:5: note: candidate template ignored: could not match 'unique_ptr<type-parameter-0-0, type-parameter-0-1>' against 'int'\n",
      "    operator>=(nullptr_t, const unique_ptr<_Tp, _Dp>& __x)\n",
      "    ^\n",
      "/srv/conda/envs/notebook/bin/../lib/gcc/x86_64-conda_cos6-linux-gnu/7.3.0/../../../../x86_64-conda_cos6-linux-gnu/include/c++/7.3.0/bits/shared_ptr_base.h:1500:5: note: candidate template ignored: could not match '__shared_ptr' against 'basic_ostream'\n",
      "    operator>=(const __shared_ptr<_Tp1, _Lp>& __a,\n",
      "    ^\n",
      "/srv/conda/envs/notebook/bin/../lib/gcc/x86_64-conda_cos6-linux-gnu/7.3.0/../../../../x86_64-conda_cos6-linux-gnu/include/c++/7.3.0/bits/shared_ptr_base.h:1506:5: note: candidate template ignored: could not match '__shared_ptr' against 'basic_ostream'\n",
      "    operator>=(const __shared_ptr<_Tp, _Lp>& __a, nullptr_t) noexcept\n",
      "    ^\n",
      "/srv/conda/envs/notebook/bin/../lib/gcc/x86_64-conda_cos6-linux-gnu/7.3.0/../../../../x86_64-conda_cos6-linux-gnu/include/c++/7.3.0/bits/shared_ptr_base.h:1511:5: note: candidate template ignored: could not match '__shared_ptr<type-parameter-0-0, _Lp>' against 'int'\n",
      "    operator>=(nullptr_t, const __shared_ptr<_Tp, _Lp>& __a) noexcept\n",
      "    ^\n",
      "/srv/conda/envs/notebook/bin/../lib/gcc/x86_64-conda_cos6-linux-gnu/7.3.0/../../../../x86_64-conda_cos6-linux-gnu/include/c++/7.3.0/bits/shared_ptr.h:454:5: note: candidate template ignored: could not match 'shared_ptr' against 'basic_ostream'\n",
      "    operator>=(const shared_ptr<_Tp>& __a, const shared_ptr<_Up>& __b) noexcept\n",
      "    ^\n",
      "/srv/conda/envs/notebook/bin/../lib/gcc/x86_64-conda_cos6-linux-gnu/7.3.0/../../../../x86_64-conda_cos6-linux-gnu/include/c++/7.3.0/bits/shared_ptr.h:459:5: note: candidate template ignored: could not match 'shared_ptr' against 'basic_ostream'\n",
      "    operator>=(const shared_ptr<_Tp>& __a, nullptr_t) noexcept\n",
      "    ^\n",
      "/srv/conda/envs/notebook/bin/../lib/gcc/x86_64-conda_cos6-linux-gnu/7.3.0/../../../../x86_64-conda_cos6-linux-gnu/include/c++/7.3.0/bits/shared_ptr.h:464:5: note: candidate template ignored: could not match 'shared_ptr<type-parameter-0-0>' against 'int'\n",
      "    operator>=(nullptr_t, const shared_ptr<_Tp>& __a) noexcept\n",
      "    ^\n",
      "/srv/conda/envs/notebook/bin/../lib/gcc/x86_64-conda_cos6-linux-gnu/7.3.0/../../../../x86_64-conda_cos6-linux-gnu/include/c++/7.3.0/bits/forward_list.h:1413:5: note: candidate template ignored: could not match 'forward_list' against 'basic_ostream'\n",
      "    operator>=(const forward_list<_Tp, _Alloc>& __lx,\n",
      "    ^\n",
      "/srv/conda/envs/notebook/bin/../lib/gcc/x86_64-conda_cos6-linux-gnu/7.3.0/../../../../x86_64-conda_cos6-linux-gnu/include/c++/7.3.0/bits/valarray_after.h:419:5: note: candidate template ignored: could not match '_Expr' against 'basic_ostream'\n",
      "    _DEFINE_EXPR_BINARY_OPERATOR(>=, __greater_equal)\n",
      "    ^\n",
      "/srv/conda/envs/notebook/bin/../lib/gcc/x86_64-conda_cos6-linux-gnu/7.3.0/../../../../x86_64-conda_cos6-linux-gnu/include/c++/7.3.0/bits/valarray_after.h:341:5: note: expanded from macro '_DEFINE_EXPR_BINARY_OPERATOR'\n",
      "    operator _Op(const _Expr<_Dom1, typename _Dom1::value_type>& __v,   \\\n",
      "    ^\n",
      "/srv/conda/envs/notebook/bin/../lib/gcc/x86_64-conda_cos6-linux-gnu/7.3.0/../../../../x86_64-conda_cos6-linux-gnu/include/c++/7.3.0/bits/valarray_after.h:419:5: note: candidate template ignored: could not match '_Expr' against 'basic_ostream'\n",
      "/srv/conda/envs/notebook/bin/../lib/gcc/x86_64-conda_cos6-linux-gnu/7.3.0/../../../../x86_64-conda_cos6-linux-gnu/include/c++/7.3.0/bits/valarray_after.h:354:5: note: expanded from macro '_DEFINE_EXPR_BINARY_OPERATOR'\n",
      "    operator _Op(const _Expr<_Dom, typename _Dom::value_type>& __v,     \\\n",
      "    ^\n",
      "/srv/conda/envs/notebook/bin/../lib/gcc/x86_64-conda_cos6-linux-gnu/7.3.0/../../../../x86_64-conda_cos6-linux-gnu/include/c++/7.3.0/bits/valarray_after.h:419:5: note: candidate template ignored: could not match '_Expr<type-parameter-0-0, typename type-parameter-0-0::value_type>' against 'int'\n",
      "/srv/conda/envs/notebook/bin/../lib/gcc/x86_64-conda_cos6-linux-gnu/7.3.0/../../../../x86_64-conda_cos6-linux-gnu/include/c++/7.3.0/bits/valarray_after.h:367:5: note: expanded from macro '_DEFINE_EXPR_BINARY_OPERATOR'\n",
      "    operator _Op(const typename _Dom::value_type& __t,                  \\\n",
      "    ^\n",
      "/srv/conda/envs/notebook/bin/../lib/gcc/x86_64-conda_cos6-linux-gnu/7.3.0/../../../../x86_64-conda_cos6-linux-gnu/include/c++/7.3.0/bits/valarray_after.h:419:5: note: candidate template ignored: could not match '_Expr' against 'basic_ostream'\n",
      "/srv/conda/envs/notebook/bin/../lib/gcc/x86_64-conda_cos6-linux-gnu/7.3.0/../../../../x86_64-conda_cos6-linux-gnu/include/c++/7.3.0/bits/valarray_after.h:380:5: note: expanded from macro '_DEFINE_EXPR_BINARY_OPERATOR'\n",
      "    operator _Op(const _Expr<_Dom,typename _Dom::value_type>& __e,      \\\n",
      "    ^\n",
      "/srv/conda/envs/notebook/bin/../lib/gcc/x86_64-conda_cos6-linux-gnu/7.3.0/../../../../x86_64-conda_cos6-linux-gnu/include/c++/7.3.0/bits/valarray_after.h:419:5: note: candidate template ignored: could not match '_Expr<type-parameter-0-0, typename type-parameter-0-0::value_type>' against 'int'\n",
      "/srv/conda/envs/notebook/bin/../lib/gcc/x86_64-conda_cos6-linux-gnu/7.3.0/../../../../x86_64-conda_cos6-linux-gnu/include/c++/7.3.0/bits/valarray_after.h:393:5: note: expanded from macro '_DEFINE_EXPR_BINARY_OPERATOR'\n",
      "    operator _Op(const valarray<typename _Dom::value_type>& __v,        \\\n",
      "    ^\n",
      "/srv/conda/envs/notebook/bin/../lib/gcc/x86_64-conda_cos6-linux-gnu/7.3.0/../../../../x86_64-conda_cos6-linux-gnu/include/c++/7.3.0/valarray:1189:1: note: candidate template ignored: could not match 'valarray' against 'basic_ostream'\n",
      "_DEFINE_BINARY_OPERATOR(>=, __greater_equal)\n",
      "^\n",
      "/srv/conda/envs/notebook/bin/../lib/gcc/x86_64-conda_cos6-linux-gnu/7.3.0/../../../../x86_64-conda_cos6-linux-gnu/include/c++/7.3.0/valarray:1144:5: note: expanded from macro '_DEFINE_BINARY_OPERATOR'\n",
      "    operator _Op(const valarray<_Tp>& __v, const valarray<_Tp>& __w)    \\\n",
      "    ^\n",
      "/srv/conda/envs/notebook/bin/../lib/gcc/x86_64-conda_cos6-linux-gnu/7.3.0/../../../../x86_64-conda_cos6-linux-gnu/include/c++/7.3.0/valarray:1189:1: note: candidate template ignored: could not match 'valarray' against 'basic_ostream'\n",
      "/srv/conda/envs/notebook/bin/../lib/gcc/x86_64-conda_cos6-linux-gnu/7.3.0/../../../../x86_64-conda_cos6-linux-gnu/include/c++/7.3.0/valarray:1155:5: note: expanded from macro '_DEFINE_BINARY_OPERATOR'\n",
      "    operator _Op(const valarray<_Tp>& __v, const _Tp& __t)              \\\n",
      "    ^\n",
      "/srv/conda/envs/notebook/bin/../lib/gcc/x86_64-conda_cos6-linux-gnu/7.3.0/../../../../x86_64-conda_cos6-linux-gnu/include/c++/7.3.0/valarray:1189:1: note: candidate template ignored: could not match 'valarray<type-parameter-0-0>' against 'int'\n",
      "/srv/conda/envs/notebook/bin/../lib/gcc/x86_64-conda_cos6-linux-gnu/7.3.0/../../../../x86_64-conda_cos6-linux-gnu/include/c++/7.3.0/valarray:1165:5: note: expanded from macro '_DEFINE_BINARY_OPERATOR'\n",
      "    operator _Op(const _Tp& __t, const valarray<_Tp>& __v)              \\\n",
      "    ^\n",
      "/srv/conda/envs/notebook/bin/../lib/gcc/x86_64-conda_cos6-linux-gnu/7.3.0/../../../../x86_64-conda_cos6-linux-gnu/include/c++/7.3.0/bits/stl_deque.h:334:5: note: candidate template ignored: could not match '_Deque_iterator' against 'basic_ostream'\n",
      "    operator>=(const _Deque_iterator<_Tp, _Ref, _Ptr>& __x,\n",
      "    ^\n",
      "/srv/conda/envs/notebook/bin/../lib/gcc/x86_64-conda_cos6-linux-gnu/7.3.0/../../../../x86_64-conda_cos6-linux-gnu/include/c++/7.3.0/bits/stl_deque.h:341:5: note: candidate template ignored: could not match '_Deque_iterator' against 'basic_ostream'\n",
      "    operator>=(const _Deque_iterator<_Tp, _RefL, _PtrL>& __x,\n",
      "    ^\n",
      "/srv/conda/envs/notebook/bin/../lib/gcc/x86_64-conda_cos6-linux-gnu/7.3.0/../../../../x86_64-conda_cos6-linux-gnu/include/c++/7.3.0/bits/stl_deque.h:2305:5: note: candidate template ignored: could not match 'deque' against 'basic_ostream'\n",
      "    operator>=(const deque<_Tp, _Alloc>& __x,\n",
      "    ^\n"
     ]
    },
    {
     "ename": "Interpreter Error",
     "evalue": "",
     "output_type": "error",
     "traceback": [
      "Interpreter Error: "
     ]
    }
   ],
   "source": [
    "cout << 3>=(j-3); // not fine: read warning message below:"
   ]
  },
  {
   "cell_type": "code",
   "execution_count": 4,
   "metadata": {},
   "outputs": [
    {
     "name": "stdout",
     "output_type": "stream",
     "text": [
      "1"
     ]
    },
    {
     "data": {
      "text/plain": [
       "@0x7f37270e6b60"
      ]
     },
     "execution_count": 4,
     "metadata": {},
     "output_type": "execute_result"
    }
   ],
   "source": [
    "cout << (3>=j-3); // fine: additive operators have higher precedence than relational operators"
   ]
  },
  {
   "cell_type": "code",
   "execution_count": 5,
   "metadata": {},
   "outputs": [
    {
     "name": "stdout",
     "output_type": "stream",
     "text": [
      "1"
     ]
    }
   ],
   "source": [
    "cout << ((323-(j*-7))!=(43));"
   ]
  },
  {
   "cell_type": "code",
   "execution_count": 6,
   "metadata": {},
   "outputs": [
    {
     "name": "stdout",
     "output_type": "stream",
     "text": [
      "1"
     ]
    },
    {
     "data": {
      "text/plain": [
       "@0x7f37270e6b60"
      ]
     },
     "execution_count": 6,
     "metadata": {},
     "output_type": "execute_result"
    }
   ],
   "source": [
    "cout << ((323-(j*-7))!=43); // fine"
   ]
  },
  {
   "cell_type": "code",
   "execution_count": 7,
   "metadata": {},
   "outputs": [
    {
     "name": "stdout",
     "output_type": "stream",
     "text": [
      "1"
     ]
    },
    {
     "data": {
      "text/plain": [
       "@0x7f37270e6b60"
      ]
     },
     "execution_count": 7,
     "metadata": {},
     "output_type": "execute_result"
    }
   ],
   "source": [
    "cout << ((323-j*-7)!=43); // fine: multiplicative operatos have higher precedence than additive operators"
   ]
  },
  {
   "cell_type": "code",
   "execution_count": 9,
   "metadata": {},
   "outputs": [
    {
     "name": "stdout",
     "output_type": "stream",
     "text": [
      "1"
     ]
    },
    {
     "data": {
      "text/plain": [
       "@0x7f37270e6b60"
      ]
     },
     "execution_count": 9,
     "metadata": {},
     "output_type": "execute_result"
    }
   ],
   "source": [
    "cout << (323-j*-7!=43); // fine: additive and multiplicative operators have higher precedence than relational operators"
   ]
  },
  {
   "cell_type": "markdown",
   "metadata": {},
   "source": [
    "## Task6"
   ]
  },
  {
   "cell_type": "code",
   "execution_count": 11,
   "metadata": {},
   "outputs": [
    {
     "name": "stdout",
     "output_type": "stream",
     "text": [
      "d\n",
      "2.81\n"
     ]
    }
   ],
   "source": [
    "#include <iostream>\n",
    "using namespace std;\n",
    "\n",
    "   int a = 3;\n",
    "   double d = 2.19;\n",
    "   auto f = 4 - d + a / 2;\n",
    "   cout << typeid(f).name() << '\\n';\n",
    "   cout << f<< '\\n';\n"
   ]
  },
  {
   "cell_type": "markdown",
   "metadata": {},
   "source": [
    "## Task7"
   ]
  },
  {
   "cell_type": "code",
   "execution_count": 24,
   "metadata": {},
   "outputs": [
    {
     "name": "stdout",
     "output_type": "stream",
     "text": [
      "0\n",
      "1\n",
      "0\n",
      "1\n"
     ]
    }
   ],
   "source": [
    " a=0;\n",
    " b=2;\n",
    " c=3;\n",
    "cout<< (a>b && a<c) <<'\\n';\n",
    "cout<< (a<b<c)<<'\\n';\n",
    "cout<< (a>b>c)<<'\\n';\n",
    "cout<< (a>b<c)<<'\\n' ;   "
   ]
  },
  {
   "cell_type": "markdown",
   "metadata": {},
   "source": [
    "## Task10"
   ]
  },
  {
   "cell_type": "code",
   "execution_count": null,
   "metadata": {},
   "outputs": [],
   "source": []
  }
 ],
 "metadata": {
  "kernelspec": {
   "display_name": "C++14",
   "language": "C++14",
   "name": "xcpp14"
  },
  "language_info": {
   "codemirror_mode": "text/x-c++src",
   "file_extension": ".cpp",
   "mimetype": "text/x-c++src",
   "name": "c++",
   "version": "-std=c++14"
  }
 },
 "nbformat": 4,
 "nbformat_minor": 2
}
