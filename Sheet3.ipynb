{
 "cells": [
  {
   "cell_type": "markdown",
   "metadata": {},
   "source": [
    "# Task1"
   ]
  },
  {
   "cell_type": "code",
   "execution_count": null,
   "metadata": {},
   "outputs": [],
   "source": []
  },
  {
   "cell_type": "markdown",
   "metadata": {},
   "source": [
    "# Task2"
   ]
  },
  {
   "cell_type": "code",
   "execution_count": null,
   "metadata": {},
   "outputs": [],
   "source": [
    "Cout << \"Success!\\n\" ;          //Compiler erro\n",
    "cout << \"Success!\\n; \"         // Compiler error  missing \"  Syntax error\n",
    "cout << \"Success \" << !\\n \"    // Compiler error  \n",
    "cout << success << '\\n';       //  Compiler error syntac error\n",
    "string res = 7; vector<int> v(10); v[5] = res; cout << \" Success!\\n \" ;   // Compiler error , type errors\n",
    "vector<int> v(10); v(5) = 7; if (v(5)!=7) cout << \" Success!\\n \" ;   //Compiler error syntax error\n",
    "if (cond) cout << \" Success!\\n \" ; else cout << \" Fail!\\n \" ;    //Compiler error, variable definition\n",
    "bool c = false; if (c) cout << \" Success!\\n \" ; else cout << \" Fail!\\n \" ;  \n",
    "string s = \" ape \" ; boo c = \" fool \" <s; if (c) cout << \" Success!\\n \" ;   // compiler error \n",
    "string s = \" ape \" ; if (s== \" fool \" ) cout << \" Success!\\n \" ;           //Logic error   \n",
    "string s = \" ape \" ; if (s== \" fool \" ) cout < \" Success!\\n \" ;           //Compiler error, logic error\n",
    "string s = \" ape \" ; if (s+ \" fool \" ) cout < \" Success!\\n \" ;           // Compiler error, logic error\n",
    "vector<char> v(5); for (int i=0; 0<v.size(); ++i) ; cout << \" Success!\\n \" ;   //\n"
   ]
  }
 ],
 "metadata": {
  "kernelspec": {
   "display_name": "C++14",
   "language": "C++14",
   "name": "xcpp14"
  },
  "language_info": {
   "codemirror_mode": "text/x-c++src",
   "file_extension": ".cpp",
   "mimetype": "text/x-c++src",
   "name": "c++",
   "version": "-std=c++14"
  }
 },
 "nbformat": 4,
 "nbformat_minor": 2
}
