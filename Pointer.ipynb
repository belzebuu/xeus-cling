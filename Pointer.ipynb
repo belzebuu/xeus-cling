{
 "cells": [
  {
   "cell_type": "code",
   "execution_count": 1,
   "metadata": {
    "collapsed": true
   },
   "outputs": [],
   "source": [
    "#include <iostream>\n",
    "using namespace std;\n",
    "int* p1 = new int(7);        // allocate an int and initialize it to 7\n",
    "double* p2 = new double(7);  // allocate a double and initialize it to 7.0"
   ]
  },
  {
   "cell_type": "code",
   "execution_count": 2,
   "metadata": {},
   "outputs": [
    {
     "name": "stdout",
     "output_type": "stream",
     "text": [
      "p1==0x64a1b30 *p1==7\n",
      "p2==0x68e98d0 *p2==7\n"
     ]
    }
   ],
   "source": [
    "cout << \"p1==\" << p1 << \" *p1==\" << *p1 << \"\\n\";  // p1==??? *p1==c\n",
    "cout << \"p2==\" << p2 << \" *p2==\" << *p2 << \"\\n\";  // p2==??? *p2=7"
   ]
  }
 ],
 "metadata": {
  "kernelspec": {
   "display_name": "xeus C++14",
   "language": "",
   "name": "xeus-cling-cpp14"
  },
  "language_info": {
   "codemirror_mode": "text/x-c++src",
   "file_extension": ".cpp",
   "mimetype": "text/x-c++src",
   "name": "c++",
   "version": ""
  }
 },
 "nbformat": 4,
 "nbformat_minor": 2
}
